{
 "cells": [
  {
   "attachments": {},
   "cell_type": "markdown",
   "metadata": {},
   "source": [
    "# Data Analysis and Exploration"
   ]
  },
  {
   "cell_type": "code",
   "execution_count": 1,
   "metadata": {},
   "outputs": [],
   "source": [
    "# Importing the necessary Libraries for Data Analysis\n",
    "import os\n",
    "import gc\n",
    "import random\n",
    "import matplotlib\n",
    "import numpy as np\n",
    "import pandas as pd\n",
    "import seaborn as sns\n",
    "import matplotlib.pyplot as plt\n",
    "\n",
    "from datetime import datetime"
   ]
  },
  {
   "cell_type": "code",
   "execution_count": 4,
   "metadata": {},
   "outputs": [
    {
     "name": "stdout",
     "output_type": "stream",
     "text": [
      "Sorting the dataframe by Date\n",
      "Done\n"
     ]
    }
   ],
   "source": [
    "df = pd.read_csv(\"../../dataset/data.csv\", sep=',', \n",
    "    names=['movie', 'user', 'rating', 'date'])\n",
    "df.date = pd.to_datetime(df.date)\n",
    "\n",
    "# We are arranging the ratings according to time-stamp(s)\n",
    "print('Sorting the dataframe by Date')\n",
    "df.sort_values(by='date', inplace=True)\n",
    "print('Done')"
   ]
  },
  {
   "cell_type": "code",
   "execution_count": 5,
   "metadata": {},
   "outputs": [
    {
     "data": {
      "text/html": [
       "<div>\n",
       "<style scoped>\n",
       "    .dataframe tbody tr th:only-of-type {\n",
       "        vertical-align: middle;\n",
       "    }\n",
       "\n",
       "    .dataframe tbody tr th {\n",
       "        vertical-align: top;\n",
       "    }\n",
       "\n",
       "    .dataframe thead th {\n",
       "        text-align: right;\n",
       "    }\n",
       "</style>\n",
       "<table border=\"1\" class=\"dataframe\">\n",
       "  <thead>\n",
       "    <tr style=\"text-align: right;\">\n",
       "      <th></th>\n",
       "      <th>movie</th>\n",
       "      <th>user</th>\n",
       "      <th>rating</th>\n",
       "      <th>date</th>\n",
       "    </tr>\n",
       "  </thead>\n",
       "  <tbody>\n",
       "    <tr>\n",
       "      <th>56431994</th>\n",
       "      <td>10341</td>\n",
       "      <td>510180</td>\n",
       "      <td>4</td>\n",
       "      <td>1999-11-11</td>\n",
       "    </tr>\n",
       "    <tr>\n",
       "      <th>9056171</th>\n",
       "      <td>1798</td>\n",
       "      <td>510180</td>\n",
       "      <td>5</td>\n",
       "      <td>1999-11-11</td>\n",
       "    </tr>\n",
       "    <tr>\n",
       "      <th>58698779</th>\n",
       "      <td>10774</td>\n",
       "      <td>510180</td>\n",
       "      <td>3</td>\n",
       "      <td>1999-11-11</td>\n",
       "    </tr>\n",
       "    <tr>\n",
       "      <th>48101611</th>\n",
       "      <td>8651</td>\n",
       "      <td>510180</td>\n",
       "      <td>2</td>\n",
       "      <td>1999-11-11</td>\n",
       "    </tr>\n",
       "    <tr>\n",
       "      <th>81893208</th>\n",
       "      <td>14660</td>\n",
       "      <td>510180</td>\n",
       "      <td>2</td>\n",
       "      <td>1999-11-11</td>\n",
       "    </tr>\n",
       "  </tbody>\n",
       "</table>\n",
       "</div>"
      ],
      "text/plain": [
       "          movie    user  rating       date\n",
       "56431994  10341  510180       4 1999-11-11\n",
       "9056171    1798  510180       5 1999-11-11\n",
       "58698779  10774  510180       3 1999-11-11\n",
       "48101611   8651  510180       2 1999-11-11\n",
       "81893208  14660  510180       2 1999-11-11"
      ]
     },
     "execution_count": 5,
     "metadata": {},
     "output_type": "execute_result"
    }
   ],
   "source": [
    "df.head()"
   ]
  },
  {
   "cell_type": "code",
   "execution_count": 6,
   "metadata": {},
   "outputs": [
    {
     "data": {
      "text/plain": [
       "count    1.004805e+08\n",
       "mean     3.604290e+00\n",
       "min      1.000000e+00\n",
       "25%      3.000000e+00\n",
       "50%      4.000000e+00\n",
       "75%      4.000000e+00\n",
       "max      5.000000e+00\n",
       "std      1.085219e+00\n",
       "Name: rating, dtype: float64"
      ]
     },
     "execution_count": 6,
     "metadata": {},
     "output_type": "execute_result"
    }
   ],
   "source": [
    "df.describe()['rating']"
   ]
  },
  {
   "cell_type": "code",
   "execution_count": 7,
   "metadata": {},
   "outputs": [
    {
     "name": "stdout",
     "output_type": "stream",
     "text": [
      "<class 'pandas.core.frame.DataFrame'>\n",
      "Index: 100480507 entries, 56431994 to 25464092\n",
      "Data columns (total 4 columns):\n",
      " #   Column  Dtype         \n",
      "---  ------  -----         \n",
      " 0   movie   int64         \n",
      " 1   user    int64         \n",
      " 2   rating  int64         \n",
      " 3   date    datetime64[ns]\n",
      "dtypes: datetime64[ns](1), int64(3)\n",
      "memory usage: 3.7 GB\n"
     ]
    }
   ],
   "source": [
    "df.info()"
   ]
  },
  {
   "cell_type": "code",
   "execution_count": 10,
   "metadata": {},
   "outputs": [
    {
     "name": "stdout",
     "output_type": "stream",
     "text": [
      "Nan values in our dataframe:  0\n"
     ]
    }
   ],
   "source": [
    "# Checking on the nan files in the dataframe\n",
    "print(\"Nan values in our dataframe: \", sum(df.isnull().any()))"
   ]
  },
  {
   "cell_type": "code",
   "execution_count": 11,
   "metadata": {},
   "outputs": [
    {
     "name": "stdout",
     "output_type": "stream",
     "text": [
      "There are 0 duplicate rating entries in the data\n"
     ]
    }
   ],
   "source": [
    "# By considering all columns, including timestamp\n",
    "dup_bool = df.duplicated(['movie','user','rating'])\n",
    "dups = sum(dup_bool) \n",
    "print(\"There are {} duplicate rating entries in the data\".format(dups))"
   ]
  },
  {
   "cell_type": "code",
   "execution_count": 12,
   "metadata": {},
   "outputs": [
    {
     "name": "stdout",
     "output_type": "stream",
     "text": [
      "Total No of Ratings: 100480507\n",
      "Total No of Users  : 480189\n",
      "Total No of movies : 17770\n"
     ]
    },
    {
     "data": {
      "text/plain": [
       "2876"
      ]
     },
     "execution_count": 12,
     "metadata": {},
     "output_type": "execute_result"
    }
   ],
   "source": [
    "total_users = len(np.unique(df.user))\n",
    "total_movies = len(np.unique(df.movie))\n",
    "\n",
    "print(\"Total No of Ratings:\", df.shape[0])\n",
    "print(\"Total No of Users  :\", total_users)\n",
    "print(\"Total No of movies :\", total_movies)\n",
    "\n",
    "# Removing the original dataframe from RAM\n",
    "del df\n",
    "gc.collect()"
   ]
  },
  {
   "attachments": {},
   "cell_type": "markdown",
   "metadata": {},
   "source": [
    "##  Dataset preprocessing "
   ]
  },
  {
   "cell_type": "code",
   "execution_count": null,
   "metadata": {},
   "outputs": [],
   "source": []
  }
 ],
 "metadata": {
  "kernelspec": {
   "display_name": "Python 3",
   "language": "python",
   "name": "python3"
  },
  "language_info": {
   "codemirror_mode": {
    "name": "ipython",
    "version": 3
   },
   "file_extension": ".py",
   "mimetype": "text/x-python",
   "name": "python",
   "nbconvert_exporter": "python",
   "pygments_lexer": "ipython3",
   "version": "3.11.2"
  },
  "orig_nbformat": 4
 },
 "nbformat": 4,
 "nbformat_minor": 2
}
