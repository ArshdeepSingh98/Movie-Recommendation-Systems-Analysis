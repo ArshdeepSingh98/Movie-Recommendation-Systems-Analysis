{
 "cells": [
  {
   "cell_type": "code",
   "execution_count": 1,
   "id": "613e3bf3",
   "metadata": {},
   "outputs": [],
   "source": [
    "import os\n",
    "import random\n",
    "import matplotlib\n",
    "import numpy as np\n",
    "import pandas as pd\n",
    "import matplotlib.pyplot as plt"
   ]
  },
  {
   "cell_type": "code",
   "execution_count": 2,
   "id": "2ef43a5c",
   "metadata": {},
   "outputs": [],
   "source": [
    "df = pd.read_csv(\"movie_data.csv\", sep=',')"
   ]
  },
  {
   "cell_type": "code",
   "execution_count": 3,
   "id": "f1d77176",
   "metadata": {},
   "outputs": [
    {
     "data": {
      "text/html": [
       "<div>\n",
       "<style scoped>\n",
       "    .dataframe tbody tr th:only-of-type {\n",
       "        vertical-align: middle;\n",
       "    }\n",
       "\n",
       "    .dataframe tbody tr th {\n",
       "        vertical-align: top;\n",
       "    }\n",
       "\n",
       "    .dataframe thead th {\n",
       "        text-align: right;\n",
       "    }\n",
       "</style>\n",
       "<table border=\"1\" class=\"dataframe\">\n",
       "  <thead>\n",
       "    <tr style=\"text-align: right;\">\n",
       "      <th></th>\n",
       "      <th>movie_id</th>\n",
       "      <th>user_id</th>\n",
       "      <th>movie_rating</th>\n",
       "      <th>date</th>\n",
       "      <th>release_year</th>\n",
       "      <th>movie_title</th>\n",
       "    </tr>\n",
       "  </thead>\n",
       "  <tbody>\n",
       "    <tr>\n",
       "      <th>0</th>\n",
       "      <td>1</td>\n",
       "      <td>1488844</td>\n",
       "      <td>3</td>\n",
       "      <td>2005-09-06</td>\n",
       "      <td>2003.0</td>\n",
       "      <td>Dinosaur Planet</td>\n",
       "    </tr>\n",
       "    <tr>\n",
       "      <th>1</th>\n",
       "      <td>1</td>\n",
       "      <td>822109</td>\n",
       "      <td>5</td>\n",
       "      <td>2005-05-13</td>\n",
       "      <td>2003.0</td>\n",
       "      <td>Dinosaur Planet</td>\n",
       "    </tr>\n",
       "    <tr>\n",
       "      <th>2</th>\n",
       "      <td>1</td>\n",
       "      <td>885013</td>\n",
       "      <td>4</td>\n",
       "      <td>2005-10-19</td>\n",
       "      <td>2003.0</td>\n",
       "      <td>Dinosaur Planet</td>\n",
       "    </tr>\n",
       "    <tr>\n",
       "      <th>3</th>\n",
       "      <td>1</td>\n",
       "      <td>30878</td>\n",
       "      <td>4</td>\n",
       "      <td>2005-12-26</td>\n",
       "      <td>2003.0</td>\n",
       "      <td>Dinosaur Planet</td>\n",
       "    </tr>\n",
       "    <tr>\n",
       "      <th>4</th>\n",
       "      <td>1</td>\n",
       "      <td>823519</td>\n",
       "      <td>3</td>\n",
       "      <td>2004-05-03</td>\n",
       "      <td>2003.0</td>\n",
       "      <td>Dinosaur Planet</td>\n",
       "    </tr>\n",
       "  </tbody>\n",
       "</table>\n",
       "</div>"
      ],
      "text/plain": [
       "   movie_id  user_id  movie_rating        date  release_year      movie_title\n",
       "0         1  1488844             3  2005-09-06        2003.0  Dinosaur Planet\n",
       "1         1   822109             5  2005-05-13        2003.0  Dinosaur Planet\n",
       "2         1   885013             4  2005-10-19        2003.0  Dinosaur Planet\n",
       "3         1    30878             4  2005-12-26        2003.0  Dinosaur Planet\n",
       "4         1   823519             3  2004-05-03        2003.0  Dinosaur Planet"
      ]
     },
     "execution_count": 3,
     "metadata": {},
     "output_type": "execute_result"
    }
   ],
   "source": [
    "df.head()"
   ]
  },
  {
   "cell_type": "code",
   "execution_count": 4,
   "id": "cc00e3ea",
   "metadata": {},
   "outputs": [
    {
     "name": "stdout",
     "output_type": "stream",
     "text": [
      "Shape of ratings dataset is:  (56919190, 6) \n",
      "\n"
     ]
    }
   ],
   "source": [
    "df = df[df['movie_rating'] >= 4.0]\n",
    "print('Shape of ratings dataset is: ',df.shape, '\\n')"
   ]
  },
  {
   "cell_type": "code",
   "execution_count": 5,
   "id": "05e571f2",
   "metadata": {},
   "outputs": [
    {
     "data": {
      "text/html": [
       "<div>\n",
       "<style scoped>\n",
       "    .dataframe tbody tr th:only-of-type {\n",
       "        vertical-align: middle;\n",
       "    }\n",
       "\n",
       "    .dataframe tbody tr th {\n",
       "        vertical-align: top;\n",
       "    }\n",
       "\n",
       "    .dataframe thead th {\n",
       "        text-align: right;\n",
       "    }\n",
       "</style>\n",
       "<table border=\"1\" class=\"dataframe\">\n",
       "  <thead>\n",
       "    <tr style=\"text-align: right;\">\n",
       "      <th></th>\n",
       "      <th>movie_id</th>\n",
       "      <th>user_id</th>\n",
       "      <th>movie_rating</th>\n",
       "      <th>date</th>\n",
       "      <th>release_year</th>\n",
       "      <th>movie_title</th>\n",
       "    </tr>\n",
       "  </thead>\n",
       "  <tbody>\n",
       "    <tr>\n",
       "      <th>45879925</th>\n",
       "      <td>8204</td>\n",
       "      <td>2257113</td>\n",
       "      <td>4</td>\n",
       "      <td>2004-04-20</td>\n",
       "      <td>1981.0</td>\n",
       "      <td>Das Boot</td>\n",
       "    </tr>\n",
       "    <tr>\n",
       "      <th>92861270</th>\n",
       "      <td>16452</td>\n",
       "      <td>1549706</td>\n",
       "      <td>5</td>\n",
       "      <td>2005-02-18</td>\n",
       "      <td>2000.0</td>\n",
       "      <td>Chocolat</td>\n",
       "    </tr>\n",
       "    <tr>\n",
       "      <th>69153715</th>\n",
       "      <td>12523</td>\n",
       "      <td>769555</td>\n",
       "      <td>4</td>\n",
       "      <td>2004-09-05</td>\n",
       "      <td>2002.0</td>\n",
       "      <td>All or Nothing</td>\n",
       "    </tr>\n",
       "    <tr>\n",
       "      <th>85376349</th>\n",
       "      <td>15151</td>\n",
       "      <td>1846168</td>\n",
       "      <td>4</td>\n",
       "      <td>2005-07-24</td>\n",
       "      <td>2004.0</td>\n",
       "      <td>Walking Tall</td>\n",
       "    </tr>\n",
       "    <tr>\n",
       "      <th>35173634</th>\n",
       "      <td>6287</td>\n",
       "      <td>416982</td>\n",
       "      <td>4</td>\n",
       "      <td>2004-06-26</td>\n",
       "      <td>1990.0</td>\n",
       "      <td>Pretty Woman</td>\n",
       "    </tr>\n",
       "  </tbody>\n",
       "</table>\n",
       "</div>"
      ],
      "text/plain": [
       "          movie_id  user_id  movie_rating        date  release_year  \\\n",
       "45879925      8204  2257113             4  2004-04-20        1981.0   \n",
       "92861270     16452  1549706             5  2005-02-18        2000.0   \n",
       "69153715     12523   769555             4  2004-09-05        2002.0   \n",
       "85376349     15151  1846168             4  2005-07-24        2004.0   \n",
       "35173634      6287   416982             4  2004-06-26        1990.0   \n",
       "\n",
       "             movie_title  \n",
       "45879925        Das Boot  \n",
       "92861270        Chocolat  \n",
       "69153715  All or Nothing  \n",
       "85376349    Walking Tall  \n",
       "35173634    Pretty Woman  "
      ]
     },
     "execution_count": 5,
     "metadata": {},
     "output_type": "execute_result"
    }
   ],
   "source": [
    "from sklearn.utils import shuffle\n",
    "df = shuffle(df)\n",
    "df.head()"
   ]
  },
  {
   "cell_type": "code",
   "execution_count": 7,
   "id": "ce1e144a",
   "metadata": {},
   "outputs": [],
   "source": [
    "df = df.head(400000)"
   ]
  },
  {
   "cell_type": "code",
   "execution_count": 8,
   "id": "c33bbc74",
   "metadata": {},
   "outputs": [
    {
     "name": "stdout",
     "output_type": "stream",
     "text": [
      "Nan values in our dataframe:  1\n",
      "Nan values in our dataframe:  0\n"
     ]
    }
   ],
   "source": [
    "print(\"Nan values in our dataframe: \", sum(df.isnull().any()))\n",
    "# Remove NaN values from the DataFrame\n",
    "df = df.dropna()\n",
    "print(\"Nan values in our dataframe: \", sum(df.isnull().any()))"
   ]
  },
  {
   "cell_type": "code",
   "execution_count": 9,
   "id": "bc41d560",
   "metadata": {},
   "outputs": [
    {
     "data": {
      "text/html": [
       "<div>\n",
       "<style scoped>\n",
       "    .dataframe tbody tr th:only-of-type {\n",
       "        vertical-align: middle;\n",
       "    }\n",
       "\n",
       "    .dataframe tbody tr th {\n",
       "        vertical-align: top;\n",
       "    }\n",
       "\n",
       "    .dataframe thead th {\n",
       "        text-align: right;\n",
       "    }\n",
       "</style>\n",
       "<table border=\"1\" class=\"dataframe\">\n",
       "  <thead>\n",
       "    <tr style=\"text-align: right;\">\n",
       "      <th></th>\n",
       "      <th>index</th>\n",
       "      <th>movie_id</th>\n",
       "      <th>user_id</th>\n",
       "      <th>movie_rating</th>\n",
       "      <th>date</th>\n",
       "      <th>release_year</th>\n",
       "      <th>movie_title</th>\n",
       "    </tr>\n",
       "  </thead>\n",
       "  <tbody>\n",
       "    <tr>\n",
       "      <th>0</th>\n",
       "      <td>45879925</td>\n",
       "      <td>8204</td>\n",
       "      <td>2257113</td>\n",
       "      <td>4</td>\n",
       "      <td>2004-04-20</td>\n",
       "      <td>1981.0</td>\n",
       "      <td>Das Boot</td>\n",
       "    </tr>\n",
       "    <tr>\n",
       "      <th>1</th>\n",
       "      <td>92861270</td>\n",
       "      <td>16452</td>\n",
       "      <td>1549706</td>\n",
       "      <td>5</td>\n",
       "      <td>2005-02-18</td>\n",
       "      <td>2000.0</td>\n",
       "      <td>Chocolat</td>\n",
       "    </tr>\n",
       "    <tr>\n",
       "      <th>2</th>\n",
       "      <td>69153715</td>\n",
       "      <td>12523</td>\n",
       "      <td>769555</td>\n",
       "      <td>4</td>\n",
       "      <td>2004-09-05</td>\n",
       "      <td>2002.0</td>\n",
       "      <td>All or Nothing</td>\n",
       "    </tr>\n",
       "    <tr>\n",
       "      <th>3</th>\n",
       "      <td>85376349</td>\n",
       "      <td>15151</td>\n",
       "      <td>1846168</td>\n",
       "      <td>4</td>\n",
       "      <td>2005-07-24</td>\n",
       "      <td>2004.0</td>\n",
       "      <td>Walking Tall</td>\n",
       "    </tr>\n",
       "    <tr>\n",
       "      <th>4</th>\n",
       "      <td>35173634</td>\n",
       "      <td>6287</td>\n",
       "      <td>416982</td>\n",
       "      <td>4</td>\n",
       "      <td>2004-06-26</td>\n",
       "      <td>1990.0</td>\n",
       "      <td>Pretty Woman</td>\n",
       "    </tr>\n",
       "  </tbody>\n",
       "</table>\n",
       "</div>"
      ],
      "text/plain": [
       "      index  movie_id  user_id  movie_rating        date  release_year  \\\n",
       "0  45879925      8204  2257113             4  2004-04-20        1981.0   \n",
       "1  92861270     16452  1549706             5  2005-02-18        2000.0   \n",
       "2  69153715     12523   769555             4  2004-09-05        2002.0   \n",
       "3  85376349     15151  1846168             4  2005-07-24        2004.0   \n",
       "4  35173634      6287   416982             4  2004-06-26        1990.0   \n",
       "\n",
       "      movie_title  \n",
       "0        Das Boot  \n",
       "1        Chocolat  \n",
       "2  All or Nothing  \n",
       "3    Walking Tall  \n",
       "4    Pretty Woman  "
      ]
     },
     "execution_count": 9,
     "metadata": {},
     "output_type": "execute_result"
    }
   ],
   "source": [
    "df = df.reset_index()\n",
    "df.head()"
   ]
  },
  {
   "cell_type": "code",
   "execution_count": 17,
   "id": "2a246cf8",
   "metadata": {},
   "outputs": [
    {
     "data": {
      "text/html": [
       "<div>\n",
       "<style scoped>\n",
       "    .dataframe tbody tr th:only-of-type {\n",
       "        vertical-align: middle;\n",
       "    }\n",
       "\n",
       "    .dataframe tbody tr th {\n",
       "        vertical-align: top;\n",
       "    }\n",
       "\n",
       "    .dataframe thead th {\n",
       "        text-align: right;\n",
       "    }\n",
       "</style>\n",
       "<table border=\"1\" class=\"dataframe\">\n",
       "  <thead>\n",
       "    <tr style=\"text-align: right;\">\n",
       "      <th></th>\n",
       "      <th>Unnamed: 0</th>\n",
       "      <th>index</th>\n",
       "      <th>movie_id</th>\n",
       "      <th>user_id</th>\n",
       "      <th>movie_rating</th>\n",
       "      <th>date</th>\n",
       "      <th>release_year</th>\n",
       "      <th>movie_title</th>\n",
       "    </tr>\n",
       "  </thead>\n",
       "  <tbody>\n",
       "    <tr>\n",
       "      <th>0</th>\n",
       "      <td>0</td>\n",
       "      <td>16957950</td>\n",
       "      <td>3282</td>\n",
       "      <td>2522130</td>\n",
       "      <td>4</td>\n",
       "      <td>2005-08-04</td>\n",
       "      <td>2004.0</td>\n",
       "      <td>Sideways</td>\n",
       "    </tr>\n",
       "    <tr>\n",
       "      <th>1</th>\n",
       "      <td>1</td>\n",
       "      <td>80474149</td>\n",
       "      <td>14507</td>\n",
       "      <td>69941</td>\n",
       "      <td>4</td>\n",
       "      <td>2005-07-02</td>\n",
       "      <td>1999.0</td>\n",
       "      <td>Any Given Sunday</td>\n",
       "    </tr>\n",
       "    <tr>\n",
       "      <th>2</th>\n",
       "      <td>2</td>\n",
       "      <td>50581251</td>\n",
       "      <td>9132</td>\n",
       "      <td>1801037</td>\n",
       "      <td>4</td>\n",
       "      <td>2004-05-28</td>\n",
       "      <td>1991.0</td>\n",
       "      <td>L.A. Story</td>\n",
       "    </tr>\n",
       "    <tr>\n",
       "      <th>3</th>\n",
       "      <td>3</td>\n",
       "      <td>64481419</td>\n",
       "      <td>11781</td>\n",
       "      <td>1531099</td>\n",
       "      <td>4</td>\n",
       "      <td>2004-10-14</td>\n",
       "      <td>1984.0</td>\n",
       "      <td>Indiana Jones and the Temple of Doom</td>\n",
       "    </tr>\n",
       "    <tr>\n",
       "      <th>4</th>\n",
       "      <td>4</td>\n",
       "      <td>62503240</td>\n",
       "      <td>11337</td>\n",
       "      <td>989873</td>\n",
       "      <td>4</td>\n",
       "      <td>2005-08-18</td>\n",
       "      <td>1999.0</td>\n",
       "      <td>American Pie</td>\n",
       "    </tr>\n",
       "  </tbody>\n",
       "</table>\n",
       "</div>"
      ],
      "text/plain": [
       "   Unnamed: 0     index  movie_id  user_id  movie_rating        date  \\\n",
       "0           0  16957950      3282  2522130             4  2005-08-04   \n",
       "1           1  80474149     14507    69941             4  2005-07-02   \n",
       "2           2  50581251      9132  1801037             4  2004-05-28   \n",
       "3           3  64481419     11781  1531099             4  2004-10-14   \n",
       "4           4  62503240     11337   989873             4  2005-08-18   \n",
       "\n",
       "   release_year                           movie_title  \n",
       "0        2004.0                              Sideways  \n",
       "1        1999.0                      Any Given Sunday  \n",
       "2        1991.0                            L.A. Story  \n",
       "3        1984.0  Indiana Jones and the Temple of Doom  \n",
       "4        1999.0                          American Pie  "
      ]
     },
     "execution_count": 17,
     "metadata": {},
     "output_type": "execute_result"
    }
   ],
   "source": [
    "# save the filtered ratings\n",
    "#df.to_csv('netflix_filtered_ratings.csv')\n",
    "\n",
    "#to load the df from csv file\n",
    "df = pd.read_csv('netflix_filtered_ratings.csv', nrows=50000)\n",
    "df.head()"
   ]
  },
  {
   "cell_type": "code",
   "execution_count": 18,
   "id": "47eb20ec",
   "metadata": {},
   "outputs": [
    {
     "name": "stdout",
     "output_type": "stream",
     "text": [
      "(50000, 6)\n"
     ]
    },
    {
     "data": {
      "text/html": [
       "<div>\n",
       "<style scoped>\n",
       "    .dataframe tbody tr th:only-of-type {\n",
       "        vertical-align: middle;\n",
       "    }\n",
       "\n",
       "    .dataframe tbody tr th {\n",
       "        vertical-align: top;\n",
       "    }\n",
       "\n",
       "    .dataframe thead th {\n",
       "        text-align: right;\n",
       "    }\n",
       "</style>\n",
       "<table border=\"1\" class=\"dataframe\">\n",
       "  <thead>\n",
       "    <tr style=\"text-align: right;\">\n",
       "      <th></th>\n",
       "      <th>movie_id</th>\n",
       "      <th>user_id</th>\n",
       "      <th>movie_rating</th>\n",
       "      <th>date</th>\n",
       "      <th>release_year</th>\n",
       "      <th>movie_title</th>\n",
       "    </tr>\n",
       "  </thead>\n",
       "  <tbody>\n",
       "    <tr>\n",
       "      <th>0</th>\n",
       "      <td>3282</td>\n",
       "      <td>2522130</td>\n",
       "      <td>4</td>\n",
       "      <td>2005-08-04</td>\n",
       "      <td>2004.0</td>\n",
       "      <td>Sideways</td>\n",
       "    </tr>\n",
       "    <tr>\n",
       "      <th>1</th>\n",
       "      <td>14507</td>\n",
       "      <td>69941</td>\n",
       "      <td>4</td>\n",
       "      <td>2005-07-02</td>\n",
       "      <td>1999.0</td>\n",
       "      <td>Any Given Sunday</td>\n",
       "    </tr>\n",
       "    <tr>\n",
       "      <th>2</th>\n",
       "      <td>9132</td>\n",
       "      <td>1801037</td>\n",
       "      <td>4</td>\n",
       "      <td>2004-05-28</td>\n",
       "      <td>1991.0</td>\n",
       "      <td>L.A. Story</td>\n",
       "    </tr>\n",
       "    <tr>\n",
       "      <th>3</th>\n",
       "      <td>11781</td>\n",
       "      <td>1531099</td>\n",
       "      <td>4</td>\n",
       "      <td>2004-10-14</td>\n",
       "      <td>1984.0</td>\n",
       "      <td>Indiana Jones and the Temple of Doom</td>\n",
       "    </tr>\n",
       "    <tr>\n",
       "      <th>4</th>\n",
       "      <td>11337</td>\n",
       "      <td>989873</td>\n",
       "      <td>4</td>\n",
       "      <td>2005-08-18</td>\n",
       "      <td>1999.0</td>\n",
       "      <td>American Pie</td>\n",
       "    </tr>\n",
       "  </tbody>\n",
       "</table>\n",
       "</div>"
      ],
      "text/plain": [
       "   movie_id  user_id  movie_rating        date  release_year  \\\n",
       "0      3282  2522130             4  2005-08-04        2004.0   \n",
       "1     14507    69941             4  2005-07-02        1999.0   \n",
       "2      9132  1801037             4  2004-05-28        1991.0   \n",
       "3     11781  1531099             4  2004-10-14        1984.0   \n",
       "4     11337   989873             4  2005-08-18        1999.0   \n",
       "\n",
       "                            movie_title  \n",
       "0                              Sideways  \n",
       "1                      Any Given Sunday  \n",
       "2                            L.A. Story  \n",
       "3  Indiana Jones and the Temple of Doom  \n",
       "4                          American Pie  "
      ]
     },
     "execution_count": 18,
     "metadata": {},
     "output_type": "execute_result"
    }
   ],
   "source": [
    "df.drop(df.columns[[0,1]], axis=1, inplace=True)\n",
    "print(df.shape)\n",
    "df.head()"
   ]
  },
  {
   "cell_type": "code",
   "execution_count": 19,
   "id": "3b182b28",
   "metadata": {},
   "outputs": [],
   "source": [
    "pivot_df = df.pivot_table(index='user_id', columns='movie_id', values='movie_rating').fillna(0)\n",
    "# print(pivot_df.isna().sum())   # print the number of missing values in each column\n",
    "# print(pivot_df.isnull().sum()) # same as above"
   ]
  },
  {
   "cell_type": "code",
   "execution_count": 20,
   "id": "7e2c79e4",
   "metadata": {},
   "outputs": [],
   "source": [
    "from sklearn.cluster import KMeans\n",
    "from sklearn.preprocessing import normalize\n",
    "from sklearn.metrics import mean_squared_error\n",
    "from sklearn.metrics import mean_absolute_error\n",
    "from sklearn.metrics import adjusted_rand_score, normalized_mutual_info_score"
   ]
  },
  {
   "cell_type": "code",
   "execution_count": 21,
   "id": "f6bb1ae4",
   "metadata": {},
   "outputs": [],
   "source": [
    "# Normalize the ratings matrix\n",
    "norm_ratings_matrix = normalize(pivot_df)\n",
    "\n",
    "# Perform K-means clustering on the normalized ratings matrix\n",
    "kmeans = KMeans(n_clusters=10, random_state=0).fit(norm_ratings_matrix)\n",
    "\n",
    "# Get the cluster centers\n",
    "cluster_centers = kmeans.cluster_centers_"
   ]
  },
  {
   "cell_type": "code",
   "execution_count": 22,
   "id": "95eb9bed",
   "metadata": {},
   "outputs": [
    {
     "name": "stdout",
     "output_type": "stream",
     "text": [
      "RMSE of K-means model: 0.06\n",
      "MAE of K-means model: 0.00\n"
     ]
    }
   ],
   "source": [
    "# Get the predicted ratings for all users and movies\n",
    "predicted_ratings = np.zeros_like(pivot_df)\n",
    "for i in range(pivot_df.shape[0]):\n",
    "    user_cluster = kmeans.predict(norm_ratings_matrix[i].reshape(1, -1))[0]\n",
    "    predicted_ratings[i,:] = cluster_centers[user_cluster,:]\n",
    "\n",
    "# Calculate the RMSE\n",
    "rmse = np.sqrt(mean_squared_error(pivot_df, predicted_ratings))\n",
    "\n",
    "# Calculate the MAE\n",
    "mae = mean_absolute_error(pivot_df, predicted_ratings)\n",
    "\n",
    "print(f\"RMSE of K-means model: {rmse:.2f}\")\n",
    "print(f\"MAE of K-means model: {mae:.2f}\")"
   ]
  },
  {
   "cell_type": "code",
   "execution_count": 23,
   "id": "d688c283",
   "metadata": {},
   "outputs": [
    {
     "name": "stdout",
     "output_type": "stream",
     "text": [
      "Adjusted Rand Index of K-means model: 0.00\n",
      "Normalized Mutual Information of K-means model: 0.00\n"
     ]
    }
   ],
   "source": [
    "# Get the predicted labels and the true labels\n",
    "predicted_labels = kmeans.labels_\n",
    "true_labels = np.zeros(pivot_df.shape[0])\n",
    "for i in range(pivot_df.shape[0]):\n",
    "    movie_ratings = pivot_df.iloc[i,:]\n",
    "    if movie_ratings.sum() > 0:\n",
    "        true_labels[i] = 1\n",
    "\n",
    "# Calculate the ARI and NMI\n",
    "ari = adjusted_rand_score(true_labels, predicted_labels)\n",
    "nmi = normalized_mutual_info_score(true_labels, predicted_labels)\n",
    "\n",
    "print(f\"Adjusted Rand Index of K-means model: {ari:.2f}\")\n",
    "print(f\"Normalized Mutual Information of K-means model: {nmi:.2f}\")"
   ]
  },
  {
   "cell_type": "code",
   "execution_count": 63,
   "id": "f2e1e3d5",
   "metadata": {},
   "outputs": [
    {
     "data": {
      "text/plain": [
       "Int64Index([    134,     301,     302,     305,     442,     481,     508,\n",
       "                561,     602,     616,\n",
       "            ...\n",
       "            2649057, 2649059, 2649067, 2649120, 2649267, 2649285, 2649308,\n",
       "            2649311, 2649323, 2649429],\n",
       "           dtype='int64', name='user_id', length=43748)"
      ]
     },
     "execution_count": 63,
     "metadata": {},
     "output_type": "execute_result"
    }
   ],
   "source": [
    "pivot_df.index"
   ]
  },
  {
   "cell_type": "code",
   "execution_count": 87,
   "id": "df01e5bb",
   "metadata": {},
   "outputs": [
    {
     "name": "stdout",
     "output_type": "stream",
     "text": [
      "<class 'pandas.core.indexes.numeric.Int64Index'>\n",
      "[16922, 14766, 5672, 2009, 3728, 1697, 16005, 14480, 16384, 13660]\n"
     ]
    }
   ],
   "source": [
    "# Get user clusters\n",
    "user_clusters = kmeans.predict(pivot_df)\n",
    "\n",
    "# Recommend movies for each user\n",
    "recommended_movies = []\n",
    "\n",
    "# Get user cluster\n",
    "user_cluster = user_clusters[7]\n",
    "\n",
    "# Find closest user in the same cluster\n",
    "closest_user_id = pivot_df[kmeans.labels_ == user_cluster].index[0]\n",
    "\n",
    "# Get movies rated highly by closest user but not by target user\n",
    "top_rated_movies = pivot_df.loc[closest_user_id][pivot_df.loc[user_id] == 0].sort_values(ascending=False)\n",
    "\n",
    "# Get movies rated by target user\n",
    "target_user_movies = pivot_df.loc[user_id][pivot_df.loc[user_id] != 0].index\n",
    "\n",
    "movies = top_rated_movies.index.difference(target_user_movies)\n",
    "\n",
    "# Shuffle the index\n",
    "shuffled_movies = movies.to_series().sample(frac=1).index\n",
    "\n",
    "# Get top recommended movies\n",
    "recommended_movies.extend(shuffled_movies[:10])\n",
    "\n",
    "# Print recommended movies indices\n",
    "print(recommended_movies)"
   ]
  },
  {
   "cell_type": "code",
   "execution_count": 88,
   "id": "17a6e760",
   "metadata": {},
   "outputs": [
    {
     "name": "stdout",
     "output_type": "stream",
     "text": [
      "What Women Want\n",
      "A Murder of Crows\n",
      "Along Came Polly\n",
      "Minority Report\n",
      "Big Daddy\n",
      "Close Encounters of the Third Kind\n",
      "Man on Fire\n",
      "The Hand that Rocks the Cradle\n",
      "Glory\n",
      "Raising Arizona\n"
     ]
    }
   ],
   "source": [
    "for movie in recommended_movies:\n",
    "    print(df.loc[movie]['movie_title'])"
   ]
  },
  {
   "cell_type": "code",
   "execution_count": null,
   "id": "d00eb3c1",
   "metadata": {},
   "outputs": [],
   "source": []
  },
  {
   "cell_type": "code",
   "execution_count": 9,
   "id": "14f7712b",
   "metadata": {},
   "outputs": [],
   "source": [
    "from sklearn.cluster import KMeans\n",
    "from sklearn.preprocessing import StandardScaler\n",
    "# Scale the data\n",
    "scaler = StandardScaler()\n",
    "ratings_array = scaler.fit_transform(pivot_df)"
   ]
  },
  {
   "cell_type": "code",
   "execution_count": 25,
   "id": "8666cb65",
   "metadata": {},
   "outputs": [
    {
     "name": "stdout",
     "output_type": "stream",
     "text": [
      "(43748, 6517)\n",
      "(50000, 7)\n"
     ]
    }
   ],
   "source": [
    "print(norm_ratings_matrix.shape)\n",
    "print(df.shape)"
   ]
  },
  {
   "cell_type": "code",
   "execution_count": null,
   "id": "76155f8a",
   "metadata": {},
   "outputs": [],
   "source": [
    "# Perform k-means clustering\n",
    "kmeans = KMeans(n_clusters=5, random_state=0).fit(ratings_array)"
   ]
  },
  {
   "cell_type": "code",
   "execution_count": 24,
   "id": "dd51e1cf",
   "metadata": {},
   "outputs": [],
   "source": [
    "# Add cluster labels to the original dataset\n",
    "#df['cluster'] = pd.Series(kmeans.predict(ratings_array))\n",
    "df['cluster'] = pd.Series(kmeans.predict(norm_ratings_matrix))"
   ]
  },
  {
   "cell_type": "code",
   "execution_count": 37,
   "id": "7b40f180",
   "metadata": {},
   "outputs": [
    {
     "name": "stdout",
     "output_type": "stream",
     "text": [
      "0.0    42974\n",
      "9.0      148\n",
      "4.0      117\n",
      "3.0      112\n",
      "1.0       88\n",
      "8.0       87\n",
      "5.0       64\n",
      "2.0       62\n",
      "6.0       60\n",
      "7.0       36\n",
      "Name: cluster, dtype: int64\n"
     ]
    },
    {
     "data": {
      "image/png": "[encoded data removed]",
      "text/plain": [
       "<Figure size 432x216 with 1 Axes>"
      ]
     },
     "metadata": {
      "needs_background": "light"
     },
     "output_type": "display_data"
    }
   ],
   "source": [
    "# Print the size of each cluster\n",
    "print(df['cluster'].value_counts())\n",
    "\n",
    "# Plot the clusters\n",
    "import matplotlib.pyplot as plt\n",
    "from sklearn.decomposition import PCA\n",
    "\n",
    "pca = PCA(n_components=2)\n",
    "principal_components = pca.fit_transform(norm_ratings_matrix)\n",
    "plt.scatter(principal_components[:, 0], principal_components[:, 1], c=kmeans.labels_, cmap='viridis')\n",
    "plt.xlabel('Principal Component 1')\n",
    "plt.ylabel('Principal Component 2')\n",
    "plt.title('K-Means Clustering of Netflix Prize Dataset (k=10)')\n",
    "#plt.rcParams['figure.figsize'] = [6, 3]\n",
    "plt.show()"
   ]
  },
  {
   "cell_type": "code",
   "execution_count": 89,
   "id": "fb746fc5",
   "metadata": {},
   "outputs": [],
   "source": [
    "#save the kmeans model\n",
    "import pickle\n",
    "with open(\"kmeans_model.pkl\", \"wb\") as f:\n",
    "    pickle.dump(kmeans, f)"
   ]
  }
 ],
 "metadata": {
  "kernelspec": {
   "display_name": "Python 3",
   "language": "python",
   "name": "python3"
  },
  "language_info": {
   "codemirror_mode": {
    "name": "ipython",
    "version": 3
   },
   "file_extension": ".py",
   "mimetype": "text/x-python",
   "name": "python",
   "nbconvert_exporter": "python",
   "pygments_lexer": "ipython3",
   "version": "3.6.13"
  }
 },
 "nbformat": 4,
 "nbformat_minor": 5
}
